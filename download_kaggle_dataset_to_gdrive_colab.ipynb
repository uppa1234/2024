{
  "cells": [
    {
      "cell_type": "markdown",
      "metadata": {
        "id": "AxygXxHJJcye"
      },
      "source": [
        "# Download Kaggle dataset to Google Drive via Colab\n",
        "Before the public update (before 8th April 2024)"
      ]
    },
    {
      "cell_type": "code",
      "execution_count": null,
      "metadata": {
        "id": "5BOAkrFhIzDU"
      },
      "outputs": [],
      "source": [
        "from google.colab import files\n",
        "files.upload() # upload kaggle.json"
      ]
    },
    {
      "cell_type": "code",
      "execution_count": 8,
      "metadata": {
        "id": "LfU7YhesIjC2"
      },
      "outputs": [],
      "source": [
        "!mkdir -p ~/.kaggle\n",
        "!cp kaggle.json ~/.kaggle/\n",
        "!chmod 600 ~/.kaggle/kaggle.json"
      ]
    },
    {
      "cell_type": "code",
      "execution_count": 9,
      "metadata": {
        "colab": {
          "base_uri": "https://localhost:8080/"
        },
        "id": "H3pcdmRAI632",
        "outputId": "02284b9e-857c-4b7f-d13b-6c46ca1d8020"
      },
      "outputs": [
        {
          "name": "stdout",
          "output_type": "stream",
          "text": [
            "kaggle.json\n"
          ]
        }
      ],
      "source": [
        "!ls"
      ]
    },
    {
      "cell_type": "code",
      "execution_count": null,
      "metadata": {
        "id": "K15HD-5bJM2d"
      },
      "outputs": [],
      "source": [
        "from google.colab import drive\n",
        "drive.mount('/content/drive')"
      ]
    },
    {
      "cell_type": "code",
      "execution_count": 10,
      "metadata": {
        "colab": {
          "base_uri": "https://localhost:8080/",
          "height": 35
        },
        "id": "pWkX0uvNHlfg",
        "outputId": "583a8f19-07e2-402f-89ff-3c1edad94658"
      },
      "outputs": [
        {
          "data": {
            "application/vnd.google.colaboratory.intrinsic+json": {
              "type": "string"
            },
            "text/plain": [
              "'/content/drive/Shareddrives/Prut/datasets/mpoxv2'"
            ]
          },
          "execution_count": 10,
          "metadata": {},
          "output_type": "execute_result"
        }
      ],
      "source": [
        "import os\n",
        "os.chdir('/content/drive/Shareddrives/Prut/datasets/mpoxv2')\n",
        "os.getcwd()"
      ]
    },
    {
      "cell_type": "code",
      "execution_count": 11,
      "metadata": {
        "colab": {
          "base_uri": "https://localhost:8080/"
        },
        "id": "qEk4Le6IHHrg",
        "outputId": "7f9a1fdd-761a-47e9-85fb-c39479a5e224"
      },
      "outputs": [
        {
          "name": "stdout",
          "output_type": "stream",
          "text": [
            "Downloading mpox-skin-lesion-dataset-version-20-msld-v20.zip to /content/drive/Shareddrives/Prut/datasets/mpoxv2\n",
            "100% 567M/567M [00:14<00:00, 43.7MB/s]\n",
            "100% 567M/567M [00:14<00:00, 40.2MB/s]\n"
          ]
        }
      ],
      "source": [
        "!kaggle datasets download -d joydippaul/mpox-skin-lesion-dataset-version-20-msld-v20"
      ]
    },
    {
      "cell_type": "code",
      "execution_count": 12,
      "metadata": {
        "colab": {
          "base_uri": "https://localhost:8080/"
        },
        "id": "yZabl7ZuJE_8",
        "outputId": "ae085437-63e6-45c5-c3dd-28ba88afab58"
      },
      "outputs": [
        {
          "name": "stdout",
          "output_type": "stream",
          "text": [
            "kaggle.json  mpox-skin-lesion-dataset-version-20-msld-v20.zip\n"
          ]
        }
      ],
      "source": [
        "!ls"
      ]
    },
    {
      "cell_type": "code",
      "execution_count": null,
      "metadata": {
        "id": "UFnFkOn-JQfz"
      },
      "outputs": [],
      "source": [
        "!unzip -q mpox-skin-lesion-dataset-version-20-msld-v20.zip"
      ]
    },
    {
      "cell_type": "code",
      "execution_count": null,
      "metadata": {
        "id": "h36iod_OJXue"
      },
      "outputs": [],
      "source": []
    }
  ],
  "metadata": {
    "colab": {
      "provenance": []
    },
    "kernelspec": {
      "display_name": "Python 3",
      "name": "python3"
    },
    "language_info": {
      "name": "python"
    }
  },
  "nbformat": 4,
  "nbformat_minor": 0
}
